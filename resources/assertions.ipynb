{
 "cells": [
  {
   "cell_type": "markdown",
   "id": "27ba1f4e",
   "metadata": {},
   "source": [
    "# Anatomy of an Assertion"
   ]
  },
  {
   "cell_type": "code",
   "execution_count": 2,
   "id": "6cc0cd5d",
   "metadata": {},
   "outputs": [],
   "source": [
    "# Imports\n",
    "import unittest"
   ]
  },
  {
   "cell_type": "code",
   "execution_count": 3,
   "id": "da43ffd2",
   "metadata": {},
   "outputs": [],
   "source": [
    "def add_numbers(x, y):\n",
    "    sum = x + y\n",
    "    return sum"
   ]
  },
  {
   "cell_type": "code",
   "execution_count": null,
   "id": "cae00b02",
   "metadata": {},
   "outputs": [
    {
     "name": "stderr",
     "output_type": "stream",
     "text": [
      "F\n",
      "======================================================================\n",
      "FAIL: test_add_numbers (__main__.TestExample.test_add_numbers)\n",
      "----------------------------------------------------------------------\n",
      "Traceback (most recent call last):\n",
      "  File \"/var/folders/m5/8yx0pg717d3dbt2ffsqj_tg40000gn/T/ipykernel_96771/2852708203.py\", line 9, in test_add_numbers\n",
      "    self.assertEqual(result, expected_result)\n",
      "AssertionError: 4 != 5\n",
      "\n",
      "----------------------------------------------------------------------\n",
      "Ran 1 test in 0.001s\n",
      "\n",
      "FAILED (failures=1)\n"
     ]
    },
    {
     "data": {
      "text/plain": [
       "<unittest.main.TestProgram at 0x1059e4e50>"
      ]
     },
     "execution_count": 6,
     "metadata": {},
     "output_type": "execute_result"
    }
   ],
   "source": [
    "class TestExample(unittest.TestCase):\n",
    "    \"\"\"Unit tests for example functions\"\"\"\n",
    "\n",
    "    def test_add_numbers(self):\n",
    "\n",
    "        test_values = [2, 2]\n",
    "        expected_result = 5\n",
    "        result = add_numbers(test_values[0], test_values[1])\n",
    "\n",
    "        self.assertEqual(result, expected_result)\n",
    "\n",
    "# Enables unittest to run within this cell\n",
    "unittest.main(argv=[''], exit=False)\n"
   ]
  },
  {
   "cell_type": "code",
   "execution_count": null,
   "id": "046462ac",
   "metadata": {},
   "outputs": [
    {
     "name": "stderr",
     "output_type": "stream",
     "text": [
      "F\n",
      "======================================================================\n",
      "FAIL: test_add_numbers (__main__.TestExample.test_add_numbers)\n",
      "----------------------------------------------------------------------\n",
      "Traceback (most recent call last):\n",
      "  File \"/var/folders/m5/8yx0pg717d3dbt2ffsqj_tg40000gn/T/ipykernel_96771/792039394.py\", line 14, in test_add_numbers\n",
      "    self.assertEqual(result, expected_result, msg=error_message)\n",
      "AssertionError: 4 != 5 : For test values [2, 2] the function produced 4 instead of the expected 5.\n",
      "\n",
      "----------------------------------------------------------------------\n",
      "Ran 1 test in 0.002s\n",
      "\n",
      "FAILED (failures=1)\n"
     ]
    },
    {
     "data": {
      "text/plain": [
       "<unittest.main.TestProgram at 0x106154d50>"
      ]
     },
     "execution_count": 8,
     "metadata": {},
     "output_type": "execute_result"
    }
   ],
   "source": [
    "class TestExample(unittest.TestCase):\n",
    "    \"\"\"Unit tests for example functions\"\"\"\n",
    "\n",
    "    def test_add_numbers(self):\n",
    "        \n",
    "        test_values = [2, 2]\n",
    "        expected_result = 5\n",
    "        result = add_numbers(test_values[0], test_values[1])\n",
    "\n",
    "        error_message = f\"For test values {test_values} \" \\\n",
    "            f\"the function produced {result} instead of the expected {expected_result}.\"\n",
    "\n",
    "        self.assertEqual(result, expected_result, msg=error_message)\n",
    "\n",
    "# Enables unittest to run within this cell\n",
    "unittest.main(argv=[''], exit=False)"
   ]
  },
  {
   "cell_type": "code",
   "execution_count": 9,
   "id": "4e905de4",
   "metadata": {},
   "outputs": [
    {
     "name": "stderr",
     "output_type": "stream",
     "text": [
      "E\n",
      "======================================================================\n",
      "ERROR: test_add_numbers (__main__.TestExample.test_add_numbers)\n",
      "----------------------------------------------------------------------\n",
      "Traceback (most recent call last):\n",
      "  File \"/var/folders/m5/8yx0pg717d3dbt2ffsqj_tg40000gn/T/ipykernel_96771/2720152711.py\", line 8, in test_add_numbers\n",
      "    result = add_numbers(test_values[0], test_values[1])\n",
      "             ^^^^^^^^^^^^^^^^^^^^^^^^^^^^^^^^^^^^^^^^^^^\n",
      "  File \"/var/folders/m5/8yx0pg717d3dbt2ffsqj_tg40000gn/T/ipykernel_96771/516029802.py\", line 2, in add_numbers\n",
      "    sum = x + y\n",
      "          ~~^~~\n",
      "TypeError: unsupported operand type(s) for +: 'int' and 'str'\n",
      "\n",
      "----------------------------------------------------------------------\n",
      "Ran 1 test in 0.001s\n",
      "\n",
      "FAILED (errors=1)\n"
     ]
    },
    {
     "data": {
      "text/plain": [
       "<unittest.main.TestProgram at 0x1060c8350>"
      ]
     },
     "execution_count": 9,
     "metadata": {},
     "output_type": "execute_result"
    }
   ],
   "source": [
    "class TestExample(unittest.TestCase):\n",
    "    \"\"\"Unit tests for example functions\"\"\"\n",
    "\n",
    "    def test_add_numbers(self):\n",
    "        \n",
    "        test_values = [2, \"two\"]\n",
    "        expected_result = 5\n",
    "        result = add_numbers(test_values[0], test_values[1])\n",
    "\n",
    "        error_message = f\"For test values {test_values} \" \\\n",
    "            f\"the function produced {result} instead of the expected {expected_result}.\"\n",
    "\n",
    "        self.assertEqual(result, expected_result, msg=error_message)\n",
    "\n",
    "# Enables unittest to run within this cell\n",
    "unittest.main(argv=[''], exit=False)"
   ]
  },
  {
   "cell_type": "code",
   "execution_count": null,
   "id": "13522577",
   "metadata": {},
   "outputs": [
    {
     "name": "stderr",
     "output_type": "stream",
     "text": [
      "E\n",
      "======================================================================\n",
      "ERROR: test_add_numbers (__main__.TestExample.test_add_numbers)\n",
      "----------------------------------------------------------------------\n",
      "Traceback (most recent call last):\n",
      "  File \"/var/folders/m5/8yx0pg717d3dbt2ffsqj_tg40000gn/T/ipykernel_96771/4291706445.py\", line 8, in test_add_numbers\n",
      "    result = add_numbers(test_values[0], test_values[1])\n",
      "             ^^^^^^^^^^^^^^^^^^^^^^^^^^^^^^^^^^^^^^^^^^^\n",
      "  File \"/var/folders/m5/8yx0pg717d3dbt2ffsqj_tg40000gn/T/ipykernel_96771/516029802.py\", line 2, in add_numbers\n",
      "    sum = x + y\n",
      "          ~~^~~\n",
      "TypeError: unsupported operand type(s) for +: 'int' and 'str'\n",
      "\n",
      "----------------------------------------------------------------------\n",
      "Ran 1 test in 0.006s\n",
      "\n",
      "FAILED (errors=1)\n"
     ]
    },
    {
     "data": {
      "text/plain": [
       "<unittest.main.TestProgram at 0x106183c50>"
      ]
     },
     "execution_count": 13,
     "metadata": {},
     "output_type": "execute_result"
    }
   ],
   "source": [
    "class TestExample(unittest.TestCase):\n",
    "    \"\"\"Unit tests for example functions\"\"\"\n",
    "\n",
    "    def test_add_numbers(self):\n",
    "        \n",
    "        test_values = [2, 2]\n",
    "        expected_result = 5\n",
    "        result = add_numbers(test_values[0], test_values[1])\n",
    "\n",
    "        error_message = f\"For test values {test_values} \" \\\n",
    "            f\"the function produced {result} instead of the expected {expected_result}.\"\n",
    "\n",
    "        self.assertTrue(result, msg=error_message)\n",
    "\n",
    "# Enables unittest to run within this cell\n",
    "unittest.main(argv=[''], exit=False)"
   ]
  },
  {
   "cell_type": "code",
   "execution_count": 17,
   "id": "6409ee0f",
   "metadata": {},
   "outputs": [],
   "source": [
    "def add_numbers_with_handling(x, y):\n",
    "    \n",
    "    try:\n",
    "        sum = x + y\n",
    "    except TypeError:\n",
    "        return None\n",
    "\n",
    "    return sum"
   ]
  },
  {
   "cell_type": "code",
   "execution_count": null,
   "id": "da77b774",
   "metadata": {},
   "outputs": [
    {
     "name": "stderr",
     "output_type": "stream",
     "text": [
      ".\n",
      "----------------------------------------------------------------------\n",
      "Ran 1 test in 0.001s\n",
      "\n",
      "OK\n"
     ]
    },
    {
     "data": {
      "text/plain": [
       "<unittest.main.TestProgram at 0x1061a7d90>"
      ]
     },
     "execution_count": 20,
     "metadata": {},
     "output_type": "execute_result"
    }
   ],
   "source": [
    "class TestExample(unittest.TestCase):\n",
    "    \"\"\"Unit tests for example functions\"\"\"\n",
    "\n",
    "    def test_add_numbers_type_error_handling(self):\n",
    "        \n",
    "        test_values = [2, \"two\"]\n",
    "        result = add_numbers_with_handling(test_values[0], test_values[1])\n",
    "\n",
    "        error_message = f\"For test values {test_values} \" \\\n",
    "            f\"the function produced {result}.\"\n",
    "\n",
    "        self.assertTrue(not result, msg=error_message)\n",
    "\n",
    "# Enables unittest to run within this cell\n",
    "unittest.main(argv=[''], exit=False)"
   ]
  },
  {
   "cell_type": "code",
   "execution_count": 22,
   "id": "5d9a484d",
   "metadata": {},
   "outputs": [
    {
     "name": "stderr",
     "output_type": "stream",
     "text": [
      ".\n",
      "----------------------------------------------------------------------\n",
      "Ran 1 test in 0.002s\n",
      "\n",
      "OK\n"
     ]
    },
    {
     "data": {
      "text/plain": [
       "<unittest.main.TestProgram at 0x106145990>"
      ]
     },
     "execution_count": 22,
     "metadata": {},
     "output_type": "execute_result"
    }
   ],
   "source": [
    "class TestExample(unittest.TestCase):\n",
    "    \"\"\"Unit tests for example functions\"\"\"\n",
    "\n",
    "    def test_add_numbers_type_error_handling(self):\n",
    "        \n",
    "        test_values = [2, \"two\"]\n",
    "        expected_result = None\n",
    "        result = add_numbers_with_handling(test_values[0], test_values[1])\n",
    "\n",
    "        error_message = f\"For test values {test_values} \" \\\n",
    "            f\"the function produced {result} instead of the expected {expected_result}.\"\n",
    "\n",
    "        self.assertEqual(result, expected_result, msg=error_message)\n",
    "\n",
    "# Enables unittest to run within this cell\n",
    "unittest.main(argv=[''], exit=False)"
   ]
  },
  {
   "cell_type": "markdown",
   "id": "d6624d07",
   "metadata": {},
   "source": [
    "## More precise: assertIsNone, no matching, no need for `expected_result` variable"
   ]
  },
  {
   "cell_type": "code",
   "execution_count": 30,
   "id": "a919fd71",
   "metadata": {},
   "outputs": [
    {
     "name": "stderr",
     "output_type": "stream",
     "text": [
      "F\n",
      "======================================================================\n",
      "FAIL: test_add_numbers_type_error_handling (__main__.TestExample.test_add_numbers_type_error_handling)\n",
      "----------------------------------------------------------------------\n",
      "Traceback (most recent call last):\n",
      "  File \"/var/folders/m5/8yx0pg717d3dbt2ffsqj_tg40000gn/T/ipykernel_96771/3906257743.py\", line 12, in test_add_numbers_type_error_handling\n",
      "    self.assertIsNone(result, msg=error_message)\n",
      "AssertionError: TypeError(\"unsupported operand type(s) for +: 'int' and 'str'\") is not None : For test values [2, 'two'] the function produced unsupported operand type(s) for +: 'int' and 'str'.\n",
      "\n",
      "----------------------------------------------------------------------\n",
      "Ran 1 test in 0.004s\n",
      "\n",
      "FAILED (failures=1)\n"
     ]
    },
    {
     "data": {
      "text/plain": [
       "<unittest.main.TestProgram at 0x1061f5990>"
      ]
     },
     "execution_count": 30,
     "metadata": {},
     "output_type": "execute_result"
    }
   ],
   "source": [
    "class TestExample(unittest.TestCase):\n",
    "    \"\"\"Unit tests for example functions\"\"\"\n",
    "\n",
    "    def test_add_numbers_type_error_handling(self):\n",
    "        \n",
    "        test_values = [2, \"two\"]\n",
    "        result = add_numbers_with_handling(test_values[0], test_values[1])\n",
    "\n",
    "        error_message = f\"For test values {test_values} \" \\\n",
    "            f\"the function produced {result}.\"\n",
    "\n",
    "        self.assertIsNone(result, msg=error_message)\n",
    "\n",
    "# Enables unittest to run within this cell\n",
    "unittest.main(argv=[''], exit=False)"
   ]
  },
  {
   "cell_type": "markdown",
   "id": "c0ec795b",
   "metadata": {},
   "source": [
    "What happens if I update the function?"
   ]
  },
  {
   "cell_type": "code",
   "execution_count": 76,
   "id": "fd003977",
   "metadata": {},
   "outputs": [],
   "source": [
    "def add_numbers_with_handling(x, y):\n",
    "    \n",
    "    try:\n",
    "        sum = x + y\n",
    "    except TypeError as e:\n",
    "        return e\n",
    "\n",
    "    return sum"
   ]
  },
  {
   "cell_type": "markdown",
   "id": "20c13102",
   "metadata": {},
   "source": [
    "I have to refactor the test, update `expected_result`"
   ]
  },
  {
   "cell_type": "code",
   "execution_count": 63,
   "id": "a36a21ff",
   "metadata": {},
   "outputs": [
    {
     "name": "stderr",
     "output_type": "stream",
     "text": [
      "F\n",
      "======================================================================\n",
      "FAIL: test_add_numbers_type_error_handling (__main__.TestExample.test_add_numbers_type_error_handling)\n",
      "----------------------------------------------------------------------\n",
      "Traceback (most recent call last):\n",
      "  File \"/var/folders/m5/8yx0pg717d3dbt2ffsqj_tg40000gn/T/ipykernel_96771/1869462702.py\", line 13, in test_add_numbers_type_error_handling\n",
      "    self.assertEqual(result, expected_result, msg=error_message)\n",
      "AssertionError: TypeError(\"unsupported operand type(s) for +: 'int' and 'str'\") != None : For test values [2, 'two'] the function produced unsupported operand type(s) for +: 'int' and 'str' instead of the expected None.\n",
      "\n",
      "----------------------------------------------------------------------\n",
      "Ran 1 test in 0.011s\n",
      "\n",
      "FAILED (failures=1)\n"
     ]
    },
    {
     "data": {
      "text/plain": [
       "<unittest.main.TestProgram at 0x10622c950>"
      ]
     },
     "execution_count": 63,
     "metadata": {},
     "output_type": "execute_result"
    }
   ],
   "source": [
    "class TestExample(unittest.TestCase):\n",
    "    \"\"\"Unit tests for example functions\"\"\"\n",
    "\n",
    "    def test_add_numbers_type_error_handling(self):\n",
    "        \n",
    "        test_values = [2, \"two\"]\n",
    "        expected_result = None\n",
    "        result = add_numbers_with_handling(test_values[0], test_values[1])\n",
    "\n",
    "        error_message = f\"For test values {test_values} \" \\\n",
    "            f\"the function produced {result} instead of the expected {expected_result}.\"\n",
    "\n",
    "        self.assertEqual(result, expected_result, msg=error_message)\n",
    "\n",
    "# Enables unittest to run within this cell\n",
    "unittest.main(argv=[''], exit=False)"
   ]
  },
  {
   "cell_type": "code",
   "execution_count": 78,
   "id": "9bbaa67b",
   "metadata": {},
   "outputs": [
    {
     "name": "stderr",
     "output_type": "stream",
     "text": [
      ".\n",
      "----------------------------------------------------------------------\n",
      "Ran 1 test in 0.001s\n",
      "\n",
      "OK\n"
     ]
    },
    {
     "data": {
      "text/plain": [
       "<unittest.main.TestProgram at 0x106277bd0>"
      ]
     },
     "execution_count": 78,
     "metadata": {},
     "output_type": "execute_result"
    }
   ],
   "source": [
    "class TestExample(unittest.TestCase):\n",
    "    \"\"\"Unit tests for example functions\"\"\"\n",
    "\n",
    "    def test_add_numbers_type_error_handling(self):\n",
    "        \n",
    "        test_values = [2, \"two\"]\n",
    "        expected_result = \"unsupported operand type(s) for +: 'int' and 'str'\"\n",
    "        result = add_numbers_with_handling(test_values[0], test_values[1])\n",
    "\n",
    "        error_message = f\"For test values {test_values} \" \\\n",
    "            f\"the function produced {result} instead of the expected {expected_result}.\"\n",
    "\n",
    "        self.assertEqual(str(result), expected_result, msg=error_message)\n",
    "\n",
    "# Enables unittest to run within this cell\n",
    "unittest.main(argv=[''], exit=False)"
   ]
  },
  {
   "cell_type": "code",
   "execution_count": 80,
   "id": "80933139",
   "metadata": {},
   "outputs": [],
   "source": [
    "class AddNumbersError(Exception):\n",
    "    pass\n",
    "\n",
    "def add_numbers_with_more_handling(x, y):\n",
    "    \n",
    "    try:\n",
    "        sum = x + y\n",
    "    except TypeError as e:\n",
    "        raise(AddNumbersError(f\"Function error: {e}\"))\n",
    "\n",
    "    return sum"
   ]
  },
  {
   "cell_type": "markdown",
   "id": "4ca3c571",
   "metadata": {},
   "source": [
    "We can make this test more precise by testing the error handling specifically with an assertion on the exception that is raised."
   ]
  },
  {
   "cell_type": "code",
   "execution_count": 83,
   "id": "21d98d7a",
   "metadata": {},
   "outputs": [
    {
     "name": "stderr",
     "output_type": "stream",
     "text": [
      ".\n",
      "----------------------------------------------------------------------\n",
      "Ran 1 test in 0.001s\n",
      "\n",
      "OK\n"
     ]
    },
    {
     "data": {
      "text/plain": [
       "<unittest.main.TestProgram at 0x106277e90>"
      ]
     },
     "execution_count": 83,
     "metadata": {},
     "output_type": "execute_result"
    }
   ],
   "source": [
    "class TestExample(unittest.TestCase):\n",
    "    \"\"\"Unit tests for example functions\"\"\"\n",
    "\n",
    "    def test_add_numbers_with_more_handling(self):\n",
    "        \n",
    "        test_values = [2, \"two\"]\n",
    "        expected_result = AddNumbersError\n",
    "\n",
    "        with self.assertRaises(AddNumbersError) as result:\n",
    "            add_numbers_with_more_handling(test_values[0], test_values[1])\n",
    "\n",
    "            error_message = f\"For test values {test_values} \" \\\n",
    "            f\"the function produced {result} instead of the expected {expected_result}.\"\n",
    "\n",
    "            self.assertEqual(result.exception, expected_result, error_message)\n",
    "\n",
    "# Enables unittest to run within this cell\n",
    "unittest.main(argv=[''], exit=False)"
   ]
  },
  {
   "cell_type": "code",
   "execution_count": null,
   "id": "f1e15482",
   "metadata": {},
   "outputs": [],
   "source": [
    "class AddNumbersError(Exception):\n",
    "    pass\n",
    "\n",
    "def add_numbers_with_even_more_handling(x, y):\n",
    "    \n",
    "    try:\n",
    "        sum = x + y\n",
    "    except TypeError as e:\n",
    "        raise(AddNumbersError(f\"Function error: {e}\"))\n",
    "    finally:\n",
    "        print(\"Function complete\")\n",
    "\n",
    "    return sum"
   ]
  },
  {
   "cell_type": "code",
   "execution_count": 92,
   "id": "0b7fe719",
   "metadata": {},
   "outputs": [
    {
     "name": "stderr",
     "output_type": "stream",
     "text": [
      "F\n",
      "======================================================================\n",
      "FAIL: test_add_numbers_with_more_handling (__main__.TestExample.test_add_numbers_with_more_handling)\n",
      "----------------------------------------------------------------------\n",
      "Traceback (most recent call last):\n",
      "  File \"/var/folders/m5/8yx0pg717d3dbt2ffsqj_tg40000gn/T/ipykernel_96771/734818320.py\", line 9, in test_add_numbers_with_more_handling\n",
      "    with self.assertRaises(TypeError) as result:\n",
      "AssertionError: TypeError not raised\n",
      "\n",
      "----------------------------------------------------------------------\n",
      "Ran 1 test in 0.003s\n",
      "\n",
      "FAILED (failures=1)\n"
     ]
    },
    {
     "name": "stdout",
     "output_type": "stream",
     "text": [
      "<unittest.case._AssertRaisesContext object at 0x1062cc250>\n"
     ]
    },
    {
     "data": {
      "text/plain": [
       "<unittest.main.TestProgram at 0x106157210>"
      ]
     },
     "execution_count": 92,
     "metadata": {},
     "output_type": "execute_result"
    }
   ],
   "source": [
    "class TestExample(unittest.TestCase):\n",
    "    \"\"\"Unit tests for example functions\"\"\"\n",
    "\n",
    "    def test_add_numbers_with_more_handling(self):\n",
    "        \n",
    "        test_values = [2, 2/10]\n",
    "        expected_result = TypeError\n",
    "\n",
    "        with self.assertRaises(TypeError) as result:\n",
    "            add_numbers_with_even_more_handling(test_values[0], test_values[1])\n",
    "\n",
    "            error_message = f\"For test values {test_values} \" \\\n",
    "            f\"the function produced {result} instead of the expected {expected_result}.\"\n",
    "\n",
    "            print(result)\n",
    "\n",
    "            # self.assertEqual(result.exception, \"butt\", error_message)\n",
    "\n",
    "# Enables unittest to run within this cell\n",
    "unittest.main(argv=[''], exit=False)"
   ]
  }
 ],
 "metadata": {
  "kernelspec": {
   "display_name": "venv",
   "language": "python",
   "name": "python3"
  },
  "language_info": {
   "codemirror_mode": {
    "name": "ipython",
    "version": 3
   },
   "file_extension": ".py",
   "mimetype": "text/x-python",
   "name": "python",
   "nbconvert_exporter": "python",
   "pygments_lexer": "ipython3",
   "version": "3.11.9"
  }
 },
 "nbformat": 4,
 "nbformat_minor": 5
}
