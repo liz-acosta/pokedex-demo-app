{
 "cells": [
  {
   "cell_type": "markdown",
   "id": "27ba1f4e",
   "metadata": {},
   "source": [
    "# A Closer Look at Assertions"
   ]
  },
  {
   "cell_type": "markdown",
   "id": "00a8dea9",
   "metadata": {},
   "source": [
    "Imports"
   ]
  },
  {
   "cell_type": "code",
   "execution_count": 2,
   "id": "6cc0cd5d",
   "metadata": {},
   "outputs": [],
   "source": [
    "# Imports\n",
    "import unittest\n",
    "from unittest.mock import patch, Mock\n",
    "import requests\n",
    "from pokemon import (\n",
    "    get_attributes, \n",
    "    get_list_by_attribute, \n",
    "    get_pokemon_by_name, \n",
    "    get_pokemon_description,\n",
    "    POKEMON_ATTRIBUTES,\n",
    "    BASE_URL\n",
    ")"
   ]
  },
  {
   "cell_type": "markdown",
   "id": "d1dbcc5f",
   "metadata": {},
   "source": [
    "The original test"
   ]
  },
  {
   "cell_type": "code",
   "execution_count": 20,
   "id": "da43ffd2",
   "metadata": {},
   "outputs": [
    {
     "name": "stderr",
     "output_type": "stream",
     "text": [
      ".\n",
      "----------------------------------------------------------------------\n",
      "Ran 1 test in 0.001s\n",
      "\n",
      "OK\n"
     ]
    },
    {
     "data": {
      "text/plain": [
       "<unittest.main.TestProgram at 0x118df2f10>"
      ]
     },
     "execution_count": 20,
     "metadata": {},
     "output_type": "execute_result"
    }
   ],
   "source": [
    "class TestPokemon(unittest.TestCase):\n",
    "    \"\"\"Unit tests for pokemon.py module\"\"\"\n",
    "\n",
    "    @patch('pokemon.requests.get')\n",
    "    def test_get_attributes_success(self, mock_get):\n",
    "        \"\"\"Test get_attributes function with successful API response.\"\"\"\n",
    "        \n",
    "        # Arrange: Set up the test environment\n",
    "        # Mock the response\n",
    "        mock_response = Mock()\n",
    "        mock_response.json.return_value = {\n",
    "            'results': [\n",
    "                {'name': 'fire'},\n",
    "                {'name': 'water'},\n",
    "                {'name': 'grass'}\n",
    "            ]\n",
    "        }\n",
    "        mock_get.return_value = mock_response\n",
    "\n",
    "        # Act: Execute the code under test\n",
    "        # Test the function\n",
    "        result = get_attributes('type')\n",
    "\n",
    "        # Assert: Check the results\n",
    "        self.assertIsInstance(result, list)\n",
    "        self.assertEqual(len(result), 3)\n",
    "        self.assertIn('fire', result)\n",
    "        self.assertIn('water', result)\n",
    "        self.assertIn('grass', result)\n",
    "        self.assertEqual(result, ['fire', 'water', 'grass'])  # Order matters for this function\n",
    "        mock_get.assert_called_once_with(BASE_URL + 'type')\n",
    "\n",
    "# Enables unittest to run within this cell\n",
    "unittest.main(argv=[''], exit=False)"
   ]
  },
  {
   "cell_type": "markdown",
   "id": "c781d6e0",
   "metadata": {},
   "source": [
    "First, let's make full use of the assert methods by adding a message.\n",
    "\n",
    "Let's first add a test that will fail so we can see what the output is:"
   ]
  },
  {
   "cell_type": "code",
   "execution_count": 19,
   "id": "046462ac",
   "metadata": {},
   "outputs": [
    {
     "name": "stderr",
     "output_type": "stream",
     "text": [
      "F\n",
      "======================================================================\n",
      "FAIL: test_get_attributes_success (__main__.TestPokemon.test_get_attributes_success)\n",
      "Test get_attributes function with successful API response.\n",
      "----------------------------------------------------------------------\n",
      "Traceback (most recent call last):\n",
      "  File \"/opt/homebrew/Cellar/python@3.11/3.11.9_1/Frameworks/Python.framework/Versions/3.11/lib/python3.11/unittest/mock.py\", line 1378, in patched\n",
      "    return func(*newargs, **newkeywargs)\n",
      "           ^^^^^^^^^^^^^^^^^^^^^^^^^^^^^\n",
      "  File \"/var/folders/m5/8yx0pg717d3dbt2ffsqj_tg40000gn/T/ipykernel_54212/2279755457.py\", line 28, in test_get_attributes_success\n",
      "    self.assertIsNone(\"something\")\n",
      "AssertionError: 'something' is not None\n",
      "\n",
      "----------------------------------------------------------------------\n",
      "Ran 1 test in 0.003s\n",
      "\n",
      "FAILED (failures=1)\n"
     ]
    },
    {
     "data": {
      "text/plain": [
       "<unittest.main.TestProgram at 0x118e08c10>"
      ]
     },
     "execution_count": 19,
     "metadata": {},
     "output_type": "execute_result"
    }
   ],
   "source": [
    "class TestPokemon(unittest.TestCase):\n",
    "    \"\"\"Unit tests for pokemon.py module\"\"\"\n",
    "\n",
    "    @patch('pokemon.requests.get')\n",
    "    def test_get_attributes_success(self, mock_get):\n",
    "        \"\"\"Test get_attributes function with successful API response.\"\"\"\n",
    "        \n",
    "        # Arrange: Set up the test environment\n",
    "        # Mock the response\n",
    "        mock_response = Mock()\n",
    "        mock_response.json.return_value = {\n",
    "            'results': [\n",
    "                {'name': 'fire'},\n",
    "                {'name': 'water'},\n",
    "                {'name': 'grass'}\n",
    "            ]\n",
    "        }\n",
    "        mock_get.return_value = mock_response\n",
    "\n",
    "        # Act: Execute the code under test\n",
    "        # Make the test a little more modular\n",
    "        # Test the function \n",
    "        test_input = \"type\"\n",
    "        test_result = get_attributes(test_input)\n",
    "\n",
    "        # Assert: Check the results\n",
    "        # Add a test failure to demonstrate ouput\n",
    "        self.assertIsNone(\"something\")\n",
    "        \n",
    "        self.assertIsInstance(test_result, list)\n",
    "        self.assertEqual(len(test_result), 3)\n",
    "        self.assertIn('fire', test_result)\n",
    "        self.assertIn('water', test_result)\n",
    "        self.assertIn('grass', test_result)\n",
    "        self.assertEqual(test_result, ['fire', 'water', 'grass'])  # Order matters for this function\n",
    "        mock_get.assert_called_once_with(BASE_URL + 'type')\n",
    "\n",
    "# Enables unittest to run within this cell\n",
    "unittest.main(argv=[''], exit=False)"
   ]
  },
  {
   "cell_type": "markdown",
   "id": "77bd1ccc",
   "metadata": {},
   "source": [
    "Notice how we don't get a lot of helpful information? Let's fix that: "
   ]
  },
  {
   "cell_type": "code",
   "execution_count": 18,
   "id": "bfade927",
   "metadata": {},
   "outputs": [
    {
     "name": "stderr",
     "output_type": "stream",
     "text": [
      "F\n",
      "======================================================================\n",
      "FAIL: test_get_attributes_success (__main__.TestPokemon.test_get_attributes_success)\n",
      "Test get_attributes function with successful API response.\n",
      "----------------------------------------------------------------------\n",
      "Traceback (most recent call last):\n",
      "  File \"/opt/homebrew/Cellar/python@3.11/3.11.9_1/Frameworks/Python.framework/Versions/3.11/lib/python3.11/unittest/mock.py\", line 1378, in patched\n",
      "    return func(*newargs, **newkeywargs)\n",
      "           ^^^^^^^^^^^^^^^^^^^^^^^^^^^^^\n",
      "  File \"/var/folders/m5/8yx0pg717d3dbt2ffsqj_tg40000gn/T/ipykernel_54212/1240023590.py\", line 32, in test_get_attributes_success\n",
      "    self.assertIsNone(\"something\", assert_message)\n",
      "AssertionError: 'something' is not None : For test values: type the function produced: ['fire', 'water', 'grass'].\n",
      "\n",
      "----------------------------------------------------------------------\n",
      "Ran 1 test in 0.005s\n",
      "\n",
      "FAILED (failures=1)\n"
     ]
    },
    {
     "data": {
      "text/plain": [
       "<unittest.main.TestProgram at 0x118e0e150>"
      ]
     },
     "execution_count": 18,
     "metadata": {},
     "output_type": "execute_result"
    }
   ],
   "source": [
    "class TestPokemon(unittest.TestCase):\n",
    "    \"\"\"Unit tests for pokemon.py module\"\"\"\n",
    "\n",
    "    @patch('pokemon.requests.get')\n",
    "    def test_get_attributes_success(self, mock_get):\n",
    "        \"\"\"Test get_attributes function with successful API response.\"\"\"\n",
    "        \n",
    "        # Arrange: Set up the test environment\n",
    "        # Mock the response\n",
    "        mock_response = Mock()\n",
    "        mock_response.json.return_value = {\n",
    "            'results': [\n",
    "                {'name': 'fire'},\n",
    "                {'name': 'water'},\n",
    "                {'name': 'grass'}\n",
    "            ]\n",
    "        }\n",
    "        mock_get.return_value = mock_response\n",
    "\n",
    "        # Act: Execute the code under test\n",
    "        # Test the function\n",
    "        test_input = \"type\"\n",
    "        test_result = get_attributes(test_input)\n",
    "\n",
    "        # Assert: Check the results\n",
    "\n",
    "        # Add a message for the assert methods\n",
    "        assert_message = f\"For test values: {test_input} \" \\\n",
    "            f\"the function produced: {test_result}.\"\n",
    "        \n",
    "        # Add a test failure to demonstrate ouput\n",
    "        self.assertIsNone(\"something\", assert_message)\n",
    "        \n",
    "        self.assertIsInstance(test_result, list)\n",
    "        self.assertEqual(len(test_result), 3)\n",
    "        self.assertIn('fire', test_result)\n",
    "        self.assertIn('water', test_result)\n",
    "        self.assertIn('grass', test_result)\n",
    "        self.assertEqual(test_result, ['fire', 'water', 'grass'])  # Order matters for this function\n",
    "        mock_get.assert_called_once_with(BASE_URL + 'type')\n",
    "\n",
    "# Enables unittest to run within this cell\n",
    "unittest.main(argv=[''], exit=False)"
   ]
  },
  {
   "cell_type": "markdown",
   "id": "392c1295",
   "metadata": {},
   "source": [
    "Now that we've got a helpful assert message, how else can we improve this test?\n",
    "\n",
    "Can we reduce the redundancy of these lines:\n",
    "```\n",
    "self.assertIn('fire', test_result)\n",
    "self.assertIn('water', test_result)\n",
    "self.assertIn('grass', test_result)\n",
    "```\n",
    "with `assertListEqual(a, b)`?\n"
   ]
  },
  {
   "cell_type": "code",
   "execution_count": 22,
   "id": "4e905de4",
   "metadata": {},
   "outputs": [
    {
     "name": "stderr",
     "output_type": "stream",
     "text": [
      ".\n",
      "----------------------------------------------------------------------\n",
      "Ran 1 test in 0.003s\n",
      "\n",
      "OK\n"
     ]
    },
    {
     "data": {
      "text/plain": [
       "<unittest.main.TestProgram at 0x118e1dfd0>"
      ]
     },
     "execution_count": 22,
     "metadata": {},
     "output_type": "execute_result"
    }
   ],
   "source": [
    "class TestPokemon(unittest.TestCase):\n",
    "    \"\"\"Unit tests for pokemon.py module\"\"\"\n",
    "\n",
    "    @patch('pokemon.requests.get')\n",
    "    def test_get_attributes_success(self, mock_get):\n",
    "        \"\"\"Test get_attributes function with successful API response.\"\"\"\n",
    "        \n",
    "        # Arrange: Set up the test environment\n",
    "        # Mock the response\n",
    "        mock_response = Mock()\n",
    "        mock_response.json.return_value = {\n",
    "            'results': [\n",
    "                {'name': 'fire'},\n",
    "                {'name': 'water'},\n",
    "                {'name': 'grass'}\n",
    "            ]\n",
    "        }\n",
    "        mock_get.return_value = mock_response\n",
    "\n",
    "        # Act: Execute the code under test\n",
    "        # Test the function\n",
    "        test_input = \"type\"\n",
    "        test_result = get_attributes(test_input)\n",
    "\n",
    "        # Assert: Check the results\n",
    "        # Add a message for the assert methods\n",
    "        assert_message = f\"For test values: {test_input} \" \\\n",
    "            f\"the function produced: {test_result}.\"\n",
    "        \n",
    "        # Expected result\n",
    "        expected_result = ['fire', 'water', 'grass']\n",
    "        \n",
    "        self.assertIsInstance(test_result, list, assert_message)\n",
    "        self.assertEqual(len(test_result), 3, assert_message)\n",
    "        # Use assertListEqual to reduce redundancy\n",
    "        self.assertListEqual(test_result, expected_result, assert_message)\n",
    "        mock_get.assert_called_once_with(BASE_URL + 'type')\n",
    "\n",
    "# Enables unittest to run within this cell\n",
    "unittest.main(argv=[''], exit=False)"
   ]
  },
  {
   "cell_type": "markdown",
   "id": "d96a59df",
   "metadata": {},
   "source": [
    "Can we simplify it even further?\n",
    "\n",
    "Since `assertListEqual` compares two lists, we don't need `self.assertIsInstance(test_result, list, assert_message)` because the assert method already verifies the `list` type."
   ]
  },
  {
   "cell_type": "code",
   "execution_count": null,
   "id": "13522577",
   "metadata": {},
   "outputs": [
    {
     "name": "stderr",
     "output_type": "stream",
     "text": [
      "E\n",
      "======================================================================\n",
      "ERROR: test_add_numbers (__main__.TestExample.test_add_numbers)\n",
      "----------------------------------------------------------------------\n",
      "Traceback (most recent call last):\n",
      "  File \"/var/folders/m5/8yx0pg717d3dbt2ffsqj_tg40000gn/T/ipykernel_96771/4291706445.py\", line 8, in test_add_numbers\n",
      "    result = add_numbers(test_values[0], test_values[1])\n",
      "             ^^^^^^^^^^^^^^^^^^^^^^^^^^^^^^^^^^^^^^^^^^^\n",
      "  File \"/var/folders/m5/8yx0pg717d3dbt2ffsqj_tg40000gn/T/ipykernel_96771/516029802.py\", line 2, in add_numbers\n",
      "    sum = x + y\n",
      "          ~~^~~\n",
      "TypeError: unsupported operand type(s) for +: 'int' and 'str'\n",
      "\n",
      "----------------------------------------------------------------------\n",
      "Ran 1 test in 0.006s\n",
      "\n",
      "FAILED (errors=1)\n"
     ]
    },
    {
     "data": {
      "text/plain": [
       "<unittest.main.TestProgram at 0x106183c50>"
      ]
     },
     "execution_count": 13,
     "metadata": {},
     "output_type": "execute_result"
    }
   ],
   "source": [
    "class TestPokemon(unittest.TestCase):\n",
    "    \"\"\"Unit tests for pokemon.py module\"\"\"\n",
    "\n",
    "    @patch('pokemon.requests.get')\n",
    "    def test_get_attributes_success(self, mock_get):\n",
    "        \"\"\"Test get_attributes function with successful API response.\"\"\"\n",
    "        \n",
    "        # Arrange: Set up the test environment\n",
    "        # Mock the response\n",
    "        mock_response = Mock()\n",
    "        mock_response.json.return_value = {\n",
    "            'results': [\n",
    "                {'name': 'fire'},\n",
    "                {'name': 'water'},\n",
    "                {'name': 'grass'}\n",
    "            ]\n",
    "        }\n",
    "        mock_get.return_value = mock_response\n",
    "\n",
    "        # Act: Execute the code under test\n",
    "        # Test the function\n",
    "        test_input = \"type\"\n",
    "        test_result = get_attributes(test_input)\n",
    "\n",
    "        # Assert: Check the results\n",
    "        # Add a message for the assert methods\n",
    "        assert_message = f\"For test values: {test_input} \" \\\n",
    "            f\"the function produced: {test_result}.\"\n",
    "        \n",
    "        # Expected result\n",
    "        expected_result = ['fire', 'water', 'grass']\n",
    "        \n",
    "        self.assertEqual(len(test_result), 3, assert_message)\n",
    "        self.assertListEqual(test_result, expected_result, assert_message)\n",
    "        mock_get.assert_called_once_with(BASE_URL + 'type')\n",
    "\n",
    "# Enables unittest to run within this cell\n",
    "unittest.main(argv=[''], exit=False)"
   ]
  },
  {
   "cell_type": "markdown",
   "id": "e25afb35",
   "metadata": {},
   "source": [
    "Don't believe me? Let's try the method with another type:"
   ]
  },
  {
   "cell_type": "code",
   "execution_count": 24,
   "id": "6409ee0f",
   "metadata": {},
   "outputs": [
    {
     "name": "stderr",
     "output_type": "stream",
     "text": [
      "F\n",
      "======================================================================\n",
      "FAIL: test_get_attributes_success (__main__.TestPokemon.test_get_attributes_success)\n",
      "Test get_attributes function with successful API response.\n",
      "----------------------------------------------------------------------\n",
      "Traceback (most recent call last):\n",
      "  File \"/opt/homebrew/Cellar/python@3.11/3.11.9_1/Frameworks/Python.framework/Versions/3.11/lib/python3.11/unittest/mock.py\", line 1378, in patched\n",
      "    return func(*newargs, **newkeywargs)\n",
      "           ^^^^^^^^^^^^^^^^^^^^^^^^^^^^^\n",
      "  File \"/var/folders/m5/8yx0pg717d3dbt2ffsqj_tg40000gn/T/ipykernel_54212/836895616.py\", line 34, in test_get_attributes_success\n",
      "    self.assertListEqual(\"'fire', 'water', 'grass'\", expected_result, assert_message)\n",
      "AssertionError: First sequence is not a list: \"'fire', 'water', 'grass'\"\n",
      "\n",
      "----------------------------------------------------------------------\n",
      "Ran 1 test in 0.004s\n",
      "\n",
      "FAILED (failures=1)\n"
     ]
    },
    {
     "data": {
      "text/plain": [
       "<unittest.main.TestProgram at 0x118d02450>"
      ]
     },
     "execution_count": 24,
     "metadata": {},
     "output_type": "execute_result"
    }
   ],
   "source": [
    "class TestPokemon(unittest.TestCase):\n",
    "    \"\"\"Unit tests for pokemon.py module\"\"\"\n",
    "\n",
    "    @patch('pokemon.requests.get')\n",
    "    def test_get_attributes_success(self, mock_get):\n",
    "        \"\"\"Test get_attributes function with successful API response.\"\"\"\n",
    "        \n",
    "        # Arrange: Set up the test environment\n",
    "        # Mock the response\n",
    "        mock_response = Mock()\n",
    "        mock_response.json.return_value = {\n",
    "            'results': [\n",
    "                {'name': 'fire'},\n",
    "                {'name': 'water'},\n",
    "                {'name': 'grass'}\n",
    "            ]\n",
    "        }\n",
    "        mock_get.return_value = mock_response\n",
    "\n",
    "        # Act: Execute the code under test\n",
    "        # Test the function\n",
    "        test_input = \"type\"\n",
    "        test_result = get_attributes(test_input)\n",
    "\n",
    "        # Assert: Check the results\n",
    "        # Add a message for the assert methods\n",
    "        assert_message = f\"For test values: {test_input} \" \\\n",
    "            f\"the function produced: {test_result}.\"\n",
    "        \n",
    "        expected_result = ['fire', 'water', 'grass']\n",
    "        \n",
    "        self.assertEqual(len(test_result), 3, assert_message)\n",
    "        # Change `test_result` to a string\n",
    "        self.assertListEqual(\"'fire', 'water', 'grass'\", expected_result, assert_message)\n",
    "        mock_get.assert_called_once_with(BASE_URL + 'type')\n",
    "\n",
    "# Enables unittest to run within this cell\n",
    "unittest.main(argv=[''], exit=False)"
   ]
  },
  {
   "cell_type": "markdown",
   "id": "24ac8950",
   "metadata": {},
   "source": [
    "Can we make this test _even better?_\n",
    "\n",
    "Let's review the function under test:\n",
    "```\n",
    "def get_attributes(attribute):\n",
    "    response = requests.get(BASE_URL + attribute)\n",
    "    response_json = response.json()\n",
    "    attributes_list = [item['name'] for item in response_json['results']]\n",
    "    return attributes_list\n",
    "```\n",
    "\n",
    "The exact `len` of the returned `attributes_list` isn't really used for anything; what matters is that the list exists and contains more than 0 elements.\n",
    "\n",
    "We can check that with `assertGreater`."
   ]
  },
  {
   "cell_type": "code",
   "execution_count": 29,
   "id": "da77b774",
   "metadata": {},
   "outputs": [
    {
     "name": "stderr",
     "output_type": "stream",
     "text": [
      ".\n",
      "----------------------------------------------------------------------\n",
      "Ran 1 test in 0.003s\n",
      "\n",
      "OK\n"
     ]
    },
    {
     "data": {
      "text/plain": [
       "<unittest.main.TestProgram at 0x118e5ad50>"
      ]
     },
     "execution_count": 29,
     "metadata": {},
     "output_type": "execute_result"
    }
   ],
   "source": [
    "class TestPokemon(unittest.TestCase):\n",
    "    \"\"\"Unit tests for pokemon.py module\"\"\"\n",
    "\n",
    "    @patch('pokemon.requests.get')\n",
    "    def test_get_attributes_success(self, mock_get):\n",
    "        \"\"\"Test get_attributes function with successful API response.\"\"\"\n",
    "        \n",
    "        # Arrange: Set up the test environment\n",
    "        # Mock the response\n",
    "        mock_response = Mock()\n",
    "        mock_response.json.return_value = {\n",
    "            'results': [\n",
    "                {'name': 'fire'},\n",
    "                {'name': 'water'},\n",
    "                {'name': 'grass'}\n",
    "            ]\n",
    "        }\n",
    "        mock_get.return_value = mock_response\n",
    "\n",
    "        # Act: Execute the code under test\n",
    "        # Test the function\n",
    "        test_input = \"type\"\n",
    "        test_result = get_attributes(test_input)\n",
    "\n",
    "        # Assert: Check the results\n",
    "        # Add a message for the assert methods\n",
    "        assert_message = f\"For test values: {test_input} \" \\\n",
    "            f\"the function produced: {test_result}.\"\n",
    "        \n",
    "        # Expected result\n",
    "        expected_result = ['fire', 'water', 'grass']\n",
    "        \n",
    "        self.assertGreater(len(test_result), 0, assert_message)\n",
    "        self.assertListEqual(test_result, expected_result, assert_message)\n",
    "        mock_get.assert_called_once_with(BASE_URL + 'type')\n",
    "\n",
    "# Enables unittest to run within this cell\n",
    "unittest.main(argv=[''], exit=False)"
   ]
  }
 ],
 "metadata": {
  "kernelspec": {
   "display_name": "venv",
   "language": "python",
   "name": "python3"
  },
  "language_info": {
   "codemirror_mode": {
    "name": "ipython",
    "version": 3
   },
   "file_extension": ".py",
   "mimetype": "text/x-python",
   "name": "python",
   "nbconvert_exporter": "python",
   "pygments_lexer": "ipython3",
   "version": "3.11.9"
  }
 },
 "nbformat": 4,
 "nbformat_minor": 5
}
